{
 "cells": [
  {
   "cell_type": "code",
   "execution_count": 1,
   "id": "e32fda99",
   "metadata": {},
   "outputs": [],
   "source": [
    "import pandas as pd\n",
    "import numpy as np"
   ]
  },
  {
   "cell_type": "markdown",
   "id": "d939ca2b",
   "metadata": {},
   "source": [
    "## Read data\n"
   ]
  },
  {
   "cell_type": "code",
   "execution_count": 2,
   "id": "6a5897a2",
   "metadata": {},
   "outputs": [],
   "source": [
    "#converting csv files to pandas dataframes\n",
    "df_0 = pd.read_csv('data/CRMLSSold202412.csv')\n",
    "df_1 = pd.read_csv('data/CRMLSSold202501_filled.csv')\n",
    "df_2 = pd.read_csv('data/CRMLSSold202502.csv')\n",
    "df_3 = pd.read_csv('data/CRMLSSold202503.csv')\n",
    "df_4 = pd.read_csv('data/CRMLSSold202504.csv')\n",
    "df_5 = pd.read_csv('data/CRMLSSold202505.csv')"
   ]
  },
  {
   "cell_type": "code",
   "execution_count": 3,
   "id": "dfdb4050",
   "metadata": {},
   "outputs": [],
   "source": [
    "#dropping 2 extra columns\n",
    "df_1 = df_1.drop(columns=['latfilled','lonfilled'])"
   ]
  },
  {
   "cell_type": "code",
   "execution_count": 4,
   "id": "593db403",
   "metadata": {},
   "outputs": [],
   "source": [
    "#list with all the dfs as elements in chronological order\n",
    "all_dfs = [df_0,df_1,df_2,df_3,df_4,df_5]"
   ]
  },
  {
   "cell_type": "code",
   "execution_count": 5,
   "id": "287105b5",
   "metadata": {},
   "outputs": [],
   "source": [
    "#total number of rows in that month's df\n",
    "total_rows=[]\n",
    "for i in list(range(6)):\n",
    "  total_rows.append(all_dfs[i].shape[0])"
   ]
  },
  {
   "cell_type": "code",
   "execution_count": 6,
   "id": "73651651",
   "metadata": {},
   "outputs": [],
   "source": [
    "#creating one large df of all 6 months\n",
    "mega = pd.concat(all_dfs, ignore_index=True)"
   ]
  },
  {
   "cell_type": "markdown",
   "id": "f0ab5965",
   "metadata": {},
   "source": [
    "## Initial Data Inspection"
   ]
  },
  {
   "cell_type": "code",
   "execution_count": null,
   "id": "8090ea67",
   "metadata": {},
   "outputs": [
    {
     "name": "stdout",
     "output_type": "stream",
     "text": [
      "Shape of the loaded data:\n",
      "(125542, 78)\n",
      "\n",
      "Columns in the loaded data:\n",
      "Index(['BuyerAgentAOR', 'ListAgentAOR', 'Flooring', 'ViewYN', 'WaterfrontYN',\n",
      "       'BasementYN', 'PoolPrivateYN', 'OriginalListPrice', 'ListingKey',\n",
      "       'ListAgentEmail', 'CloseDate', 'ClosePrice', 'ListAgentFirstName',\n",
      "       'ListAgentLastName', 'Latitude', 'Longitude', 'UnparsedAddress',\n",
      "       'PropertyType', 'LivingArea', 'ListPrice', 'DaysOnMarket',\n",
      "       'ListOfficeName', 'BuyerOfficeName', 'CoListOfficeName',\n",
      "       'ListAgentFullName', 'CoListAgentFirstName', 'CoListAgentLastName',\n",
      "       'BuyerAgentMlsId', 'BuyerAgentFirstName', 'BuyerAgentLastName',\n",
      "       'FireplacesTotal', 'AssociationFeeFrequency', 'AboveGradeFinishedArea',\n",
      "       'ListingKeyNumeric', 'MLSAreaMajor', 'TaxAnnualAmount',\n",
      "       'CountyOrParish', 'MlsStatus', 'ElementarySchool', 'AttachedGarageYN',\n",
      "       'ParkingTotal', 'BuilderName', 'PropertySubType', 'LotSizeAcres',\n",
      "       'SubdivisionName', 'BuyerOfficeAOR', 'YearBuilt', 'StreetNumberNumeric',\n",
      "       'ListingId', 'BathroomsTotalInteger', 'City', 'TaxYear',\n",
      "       'BuildingAreaTotal', 'BedroomsTotal', 'ContractStatusChangeDate',\n",
      "       'ElementarySchoolDistrict', 'CoBuyerAgentFirstName',\n",
      "       'PurchaseContractDate', 'ListingContractDate', 'BelowGradeFinishedArea',\n",
      "       'BusinessType', 'StateOrProvince', 'CoveredSpaces',\n",
      "       'MiddleOrJuniorSchool', 'FireplaceYN', 'Stories', 'HighSchool',\n",
      "       'Levels', 'LotSizeDimensions', 'LotSizeArea', 'MainLevelBedrooms',\n",
      "       'NewConstructionYN', 'GarageSpaces', 'HighSchoolDistrict', 'PostalCode',\n",
      "       'AssociationFee', 'LotSizeSquareFeet', 'MiddleOrJuniorSchoolDistrict'],\n",
      "      dtype='object')\n"
     ]
    }
   ],
   "source": [
    "print(\"Shape of the loaded data:\")\n",
    "print(mega.shape)\n",
    "\n",
    "print(\"\\nColumns in the loaded data:\")\n",
    "print(mega.columns)"
   ]
  },
  {
   "cell_type": "markdown",
   "id": "853ffafa",
   "metadata": {},
   "source": [
    "## Sample of the data"
   ]
  },
  {
   "cell_type": "code",
   "execution_count": 8,
   "id": "7427397a",
   "metadata": {},
   "outputs": [
    {
     "name": "stdout",
     "output_type": "stream",
     "text": [
      "\n",
      "Data Head:\n"
     ]
    },
    {
     "data": {
      "text/html": [
       "<div>\n",
       "<style scoped>\n",
       "    .dataframe tbody tr th:only-of-type {\n",
       "        vertical-align: middle;\n",
       "    }\n",
       "\n",
       "    .dataframe tbody tr th {\n",
       "        vertical-align: top;\n",
       "    }\n",
       "\n",
       "    .dataframe thead th {\n",
       "        text-align: right;\n",
       "    }\n",
       "</style>\n",
       "<table border=\"1\" class=\"dataframe\">\n",
       "  <thead>\n",
       "    <tr style=\"text-align: right;\">\n",
       "      <th></th>\n",
       "      <th>BuyerAgentAOR</th>\n",
       "      <th>ListAgentAOR</th>\n",
       "      <th>Flooring</th>\n",
       "      <th>ViewYN</th>\n",
       "      <th>WaterfrontYN</th>\n",
       "      <th>BasementYN</th>\n",
       "      <th>PoolPrivateYN</th>\n",
       "      <th>OriginalListPrice</th>\n",
       "      <th>ListingKey</th>\n",
       "      <th>ListAgentEmail</th>\n",
       "      <th>...</th>\n",
       "      <th>LotSizeDimensions</th>\n",
       "      <th>LotSizeArea</th>\n",
       "      <th>MainLevelBedrooms</th>\n",
       "      <th>NewConstructionYN</th>\n",
       "      <th>GarageSpaces</th>\n",
       "      <th>HighSchoolDistrict</th>\n",
       "      <th>PostalCode</th>\n",
       "      <th>AssociationFee</th>\n",
       "      <th>LotSizeSquareFeet</th>\n",
       "      <th>MiddleOrJuniorSchoolDistrict</th>\n",
       "    </tr>\n",
       "  </thead>\n",
       "  <tbody>\n",
       "    <tr>\n",
       "      <th>0</th>\n",
       "      <td>Glendale</td>\n",
       "      <td>Glendale</td>\n",
       "      <td>NaN</td>\n",
       "      <td>NaN</td>\n",
       "      <td>NaN</td>\n",
       "      <td>NaN</td>\n",
       "      <td>NaN</td>\n",
       "      <td>3350000.0</td>\n",
       "      <td>552665323</td>\n",
       "      <td>Listings@LockerRealty.com</td>\n",
       "      <td>...</td>\n",
       "      <td>NaN</td>\n",
       "      <td>88445.0</td>\n",
       "      <td>NaN</td>\n",
       "      <td>False</td>\n",
       "      <td>0.0</td>\n",
       "      <td>NaN</td>\n",
       "      <td>91331</td>\n",
       "      <td>NaN</td>\n",
       "      <td>88445.0</td>\n",
       "      <td>NaN</td>\n",
       "    </tr>\n",
       "    <tr>\n",
       "      <th>1</th>\n",
       "      <td>InlandValleys</td>\n",
       "      <td>InlandValleys</td>\n",
       "      <td>NaN</td>\n",
       "      <td>True</td>\n",
       "      <td>NaN</td>\n",
       "      <td>NaN</td>\n",
       "      <td>NaN</td>\n",
       "      <td>125000.0</td>\n",
       "      <td>551977092</td>\n",
       "      <td>Patriciapandeyrealtor@gmail.com</td>\n",
       "      <td>...</td>\n",
       "      <td>NaN</td>\n",
       "      <td>9148.0</td>\n",
       "      <td>NaN</td>\n",
       "      <td>False</td>\n",
       "      <td>NaN</td>\n",
       "      <td>NaN</td>\n",
       "      <td>92530</td>\n",
       "      <td>0.0</td>\n",
       "      <td>9148.0</td>\n",
       "      <td>NaN</td>\n",
       "    </tr>\n",
       "    <tr>\n",
       "      <th>2</th>\n",
       "      <td>PacificWest</td>\n",
       "      <td>PacificWest</td>\n",
       "      <td>NaN</td>\n",
       "      <td>True</td>\n",
       "      <td>NaN</td>\n",
       "      <td>NaN</td>\n",
       "      <td>NaN</td>\n",
       "      <td>300000.0</td>\n",
       "      <td>551927931</td>\n",
       "      <td>joshuacho1004@gmail.com</td>\n",
       "      <td>...</td>\n",
       "      <td>NaN</td>\n",
       "      <td>6969600.0</td>\n",
       "      <td>NaN</td>\n",
       "      <td>False</td>\n",
       "      <td>NaN</td>\n",
       "      <td>NaN</td>\n",
       "      <td>92356</td>\n",
       "      <td>0.0</td>\n",
       "      <td>6969600.0</td>\n",
       "      <td>NaN</td>\n",
       "    </tr>\n",
       "    <tr>\n",
       "      <th>3</th>\n",
       "      <td>Mlslistings</td>\n",
       "      <td>Mlslistings</td>\n",
       "      <td>Carpet,Laminate,Tile</td>\n",
       "      <td>False</td>\n",
       "      <td>NaN</td>\n",
       "      <td>NaN</td>\n",
       "      <td>NaN</td>\n",
       "      <td>800000.0</td>\n",
       "      <td>544420694</td>\n",
       "      <td>assistant@danmoskowitz.com</td>\n",
       "      <td>...</td>\n",
       "      <td>NaN</td>\n",
       "      <td>6418.0</td>\n",
       "      <td>NaN</td>\n",
       "      <td>False</td>\n",
       "      <td>0.0</td>\n",
       "      <td>Other</td>\n",
       "      <td>95122</td>\n",
       "      <td>NaN</td>\n",
       "      <td>6418.0</td>\n",
       "      <td>NaN</td>\n",
       "    </tr>\n",
       "    <tr>\n",
       "      <th>4</th>\n",
       "      <td>LakeCounty</td>\n",
       "      <td>LakeCounty</td>\n",
       "      <td>NaN</td>\n",
       "      <td>True</td>\n",
       "      <td>NaN</td>\n",
       "      <td>NaN</td>\n",
       "      <td>NaN</td>\n",
       "      <td>21500.0</td>\n",
       "      <td>516603298</td>\n",
       "      <td>jan@zapcom.net</td>\n",
       "      <td>...</td>\n",
       "      <td>NaN</td>\n",
       "      <td>4559.0</td>\n",
       "      <td>NaN</td>\n",
       "      <td>False</td>\n",
       "      <td>NaN</td>\n",
       "      <td>NaN</td>\n",
       "      <td>95464</td>\n",
       "      <td>0.0</td>\n",
       "      <td>4559.0</td>\n",
       "      <td>NaN</td>\n",
       "    </tr>\n",
       "  </tbody>\n",
       "</table>\n",
       "<p>5 rows × 78 columns</p>\n",
       "</div>"
      ],
      "text/plain": [
       "   BuyerAgentAOR   ListAgentAOR              Flooring ViewYN WaterfrontYN  \\\n",
       "0       Glendale       Glendale                   NaN    NaN          NaN   \n",
       "1  InlandValleys  InlandValleys                   NaN   True          NaN   \n",
       "2    PacificWest    PacificWest                   NaN   True          NaN   \n",
       "3    Mlslistings    Mlslistings  Carpet,Laminate,Tile  False          NaN   \n",
       "4     LakeCounty     LakeCounty                   NaN   True          NaN   \n",
       "\n",
       "  BasementYN PoolPrivateYN  OriginalListPrice  ListingKey  \\\n",
       "0        NaN           NaN          3350000.0   552665323   \n",
       "1        NaN           NaN           125000.0   551977092   \n",
       "2        NaN           NaN           300000.0   551927931   \n",
       "3        NaN           NaN           800000.0   544420694   \n",
       "4        NaN           NaN            21500.0   516603298   \n",
       "\n",
       "                    ListAgentEmail  ... LotSizeDimensions  LotSizeArea  \\\n",
       "0        Listings@LockerRealty.com  ...               NaN      88445.0   \n",
       "1  Patriciapandeyrealtor@gmail.com  ...               NaN       9148.0   \n",
       "2          joshuacho1004@gmail.com  ...               NaN    6969600.0   \n",
       "3       assistant@danmoskowitz.com  ...               NaN       6418.0   \n",
       "4                   jan@zapcom.net  ...               NaN       4559.0   \n",
       "\n",
       "  MainLevelBedrooms NewConstructionYN  GarageSpaces  HighSchoolDistrict  \\\n",
       "0               NaN             False           0.0                 NaN   \n",
       "1               NaN             False           NaN                 NaN   \n",
       "2               NaN             False           NaN                 NaN   \n",
       "3               NaN             False           0.0               Other   \n",
       "4               NaN             False           NaN                 NaN   \n",
       "\n",
       "  PostalCode AssociationFee  LotSizeSquareFeet  MiddleOrJuniorSchoolDistrict  \n",
       "0      91331            NaN            88445.0                           NaN  \n",
       "1      92530            0.0             9148.0                           NaN  \n",
       "2      92356            0.0          6969600.0                           NaN  \n",
       "3      95122            NaN             6418.0                           NaN  \n",
       "4      95464            0.0             4559.0                           NaN  \n",
       "\n",
       "[5 rows x 78 columns]"
      ]
     },
     "execution_count": 8,
     "metadata": {},
     "output_type": "execute_result"
    }
   ],
   "source": [
    "print(\"\\nData Head:\")\n",
    "mega.head()"
   ]
  },
  {
   "cell_type": "markdown",
   "id": "e9bef7e4",
   "metadata": {},
   "source": [
    "## Save the raw data"
   ]
  },
  {
   "cell_type": "code",
   "execution_count": null,
   "id": "2bfc941d",
   "metadata": {},
   "outputs": [
    {
     "name": "stdout",
     "output_type": "stream",
     "text": [
      "\n",
      "Saving raw data to '00_raw_data.csv'...\n",
      "Done.\n"
     ]
    }
   ],
   "source": [
    "mega.to_csv(\"raw_data.csv\", index=False)\n",
    "print(\"Done.\")"
   ]
  }
 ],
 "metadata": {
  "kernelspec": {
   "display_name": "Python 3",
   "language": "python",
   "name": "python3"
  },
  "language_info": {
   "codemirror_mode": {
    "name": "ipython",
    "version": 3
   },
   "file_extension": ".py",
   "mimetype": "text/x-python",
   "name": "python",
   "nbconvert_exporter": "python",
   "pygments_lexer": "ipython3",
   "version": "3.13.0"
  }
 },
 "nbformat": 4,
 "nbformat_minor": 5
}
