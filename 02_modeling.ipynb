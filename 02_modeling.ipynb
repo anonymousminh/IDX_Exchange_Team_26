{
 "cells": [
  {
   "cell_type": "code",
   "execution_count": 2,
   "id": "60df6379",
   "metadata": {},
   "outputs": [],
   "source": [
    "import pandas as pd\n",
    "import numpy as np"
   ]
  },
  {
   "cell_type": "markdown",
   "id": "536bd99b",
   "metadata": {},
   "source": [
    "## Load Data"
   ]
  },
  {
   "cell_type": "code",
   "execution_count": 3,
   "id": "38d115ac",
   "metadata": {},
   "outputs": [
    {
     "name": "stdout",
     "output_type": "stream",
     "text": [
      "Loaded cleaned data with shape: (19113, 30)\n"
     ]
    }
   ],
   "source": [
    "mega_fd = pd.read_csv(\"cleaned_data.csv\")\n",
    "print(\"Loaded cleaned data with shape:\", mega_fd.shape)"
   ]
  },
  {
   "cell_type": "markdown",
   "id": "4c2998c3",
   "metadata": {},
   "source": [
    "## Catigorize Columns"
   ]
  },
  {
   "cell_type": "code",
   "execution_count": 4,
   "id": "c708bc27",
   "metadata": {},
   "outputs": [
    {
     "name": "stdout",
     "output_type": "stream",
     "text": [
      "Numerical columns identified: ['Latitude', 'Longitude', 'LivingArea', 'DaysOnMarket', 'ParkingTotal', 'YearBuilt', 'BathroomsTotalInteger', 'BedroomsTotal', 'Stories', 'LotSizeArea', 'MainLevelBedrooms', 'GarageSpaces', 'AssociationFee', 'LotSizeSquareFeet']\n"
     ]
    }
   ],
   "source": [
    "# Remove ClosePrice column\n",
    "features = mega_fd.drop(columns=['ClosePrice'])\n",
    "\n",
    "# Define numerical columns first\n",
    "num_cols = features.select_dtypes(include=[np.number]).columns.tolist()\n",
    "print(\"Numerical columns identified:\", num_cols)"
   ]
  },
  {
   "cell_type": "markdown",
   "id": "4e6052b8",
   "metadata": {},
   "source": [
    "## Predicting Close Price"
   ]
  },
  {
   "cell_type": "markdown",
   "id": "07887589",
   "metadata": {},
   "source": [
    "### KNN - Numerical variables only"
   ]
  },
  {
   "cell_type": "code",
   "execution_count": 5,
   "id": "9a20d716",
   "metadata": {},
   "outputs": [
    {
     "name": "stdout",
     "output_type": "stream",
     "text": [
      "KNN MAPE: 0.430\n",
      "KNN R-squared: 0.317\n"
     ]
    }
   ],
   "source": [
    "from sklearn.neighbors import KNeighborsRegressor\n",
    "from sklearn.model_selection import train_test_split\n",
    "from sklearn.metrics import mean_absolute_percentage_error, r2_score\n",
    "\n",
    "df_knn = mega_fd[num_cols + ['ClosePrice']].dropna()\n",
    "\n",
    "X = df_knn[num_cols]\n",
    "y = df_knn['ClosePrice']\n",
    "\n",
    "X_train, X_test, y_train, y_test = train_test_split(X, y, test_size=0.2, random_state=42)\n",
    "\n",
    "knn = KNeighborsRegressor(n_neighbors=5)\n",
    "knn.fit(X_train, y_train)\n",
    "\n",
    "y_pred = knn.predict(X_test)\n",
    "mape = mean_absolute_percentage_error(y_test, y_pred)\n",
    "r2 = r2_score(y_test, y_pred)\n",
    "print(f\"KNN MAPE: {mape:.3f}\")\n",
    "print(f\"KNN R-squared: {r2:.3f}\")"
   ]
  },
  {
   "cell_type": "markdown",
   "id": "2bf534a8",
   "metadata": {},
   "source": [
    "### KNN - With categorical variables"
   ]
  },
  {
   "cell_type": "code",
   "execution_count": 6,
   "id": "6ba6ec51",
   "metadata": {},
   "outputs": [
    {
     "name": "stdout",
     "output_type": "stream",
     "text": [
      "KNN MAPE (all columns, no nulls): 0.43\n",
      "KNN R-squared (all columns, no nulls): 0.272\n"
     ]
    }
   ],
   "source": [
    "# with categorical variables\n",
    "df_no_null_cols = mega_fd.dropna(axis=1)\n",
    "\n",
    "feature_cols = [col for col in df_no_null_cols.columns if col != 'ClosePrice']\n",
    "\n",
    "df_no_null_cols = df_no_null_cols.dropna(subset=['ClosePrice'])\n",
    "\n",
    "X = df_no_null_cols[feature_cols]\n",
    "y = df_no_null_cols['ClosePrice']\n",
    "\n",
    "X = pd.get_dummies(X, drop_first=True)\n",
    "\n",
    "X_train, X_test, y_train, y_test = train_test_split(X, y, test_size=0.2, random_state=42)\n",
    "\n",
    "knn = KNeighborsRegressor(n_neighbors=3)\n",
    "knn.fit(X_train, y_train)\n",
    "\n",
    "y_pred = knn.predict(X_test)\n",
    "mape = mean_absolute_percentage_error(y_test, y_pred)\n",
    "r2 = r2_score(y_test, y_pred)\n",
    "print(f\"KNN MAPE (all columns, no nulls): {mape:.2f}\")\n",
    "print(f\"KNN R-squared (all columns, no nulls): {r2:.3f}\")"
   ]
  },
  {
   "cell_type": "markdown",
   "id": "b99c3098",
   "metadata": {},
   "source": [
    "### Random Forest - numerical only"
   ]
  },
  {
   "cell_type": "code",
   "execution_count": 7,
   "id": "5b9e9fd0",
   "metadata": {},
   "outputs": [
    {
     "name": "stdout",
     "output_type": "stream",
     "text": [
      "Random Forest MAPE (outliers removed): 0.11\n",
      "Random Forest R-squared (outliers removed): 0.866\n"
     ]
    }
   ],
   "source": [
    "from sklearn.ensemble import RandomForestRegressor\n",
    "from sklearn.model_selection import train_test_split\n",
    "from sklearn.metrics import mean_absolute_percentage_error, r2_score\n",
    "\n",
    "# Use only numerical columns for fair comparison\n",
    "num_cols = [col for col in num_cols if col != 'ClosePrice']\n",
    "df_num_model = mega_fd[num_cols + ['ClosePrice']].dropna()\n",
    "\n",
    "# Remove top and bottom 1% outliers based on ClosePrice\n",
    "q1 = df_num_model['ClosePrice'].quantile(0.01)\n",
    "q99 = df_num_model['ClosePrice'].quantile(0.99)\n",
    "df_num_model_filtered = df_num_model[(df_num_model['ClosePrice'] >= q1) & (df_num_model['ClosePrice'] <= q99)]\n",
    "\n",
    "X = df_num_model_filtered[num_cols]\n",
    "y = df_num_model_filtered['ClosePrice']\n",
    "\n",
    "X_train, X_test, y_train, y_test = train_test_split(X, y, test_size=0.2, random_state=42)\n",
    "\n",
    "rf = RandomForestRegressor(n_estimators=100, random_state=42)\n",
    "rf.fit(X_train, y_train)\n",
    "\n",
    "y_pred = rf.predict(X_test)\n",
    "mape = mean_absolute_percentage_error(y_test, y_pred)\n",
    "r2 = r2_score(y_test, y_pred)\n",
    "print(f\"Random Forest MAPE (outliers removed): {mape:.2f}\")\n",
    "print(f\"Random Forest R-squared (outliers removed): {r2:.3f}\")\n"
   ]
  },
  {
   "cell_type": "markdown",
   "id": "96c333f2",
   "metadata": {},
   "source": [
    "### XGBoost - numerical only"
   ]
  },
  {
   "cell_type": "code",
   "execution_count": 8,
   "id": "8e5cccff",
   "metadata": {},
   "outputs": [
    {
     "name": "stdout",
     "output_type": "stream",
     "text": [
      "XGBoost MAPE (outliers removed): 0.12\n",
      "XGBoost R-squared (outliers removed): 0.875\n"
     ]
    }
   ],
   "source": [
    "import xgboost as xgb\n",
    "\n",
    "# Use only numerical columns for fair comparison (same as rf)\n",
    "X = df_num_model_filtered[num_cols]\n",
    "y = df_num_model_filtered['ClosePrice']\n",
    "\n",
    "X_train, X_test, y_train, y_test = train_test_split(X, y, test_size=0.2, random_state=42)\n",
    "\n",
    "xgb_reg = xgb.XGBRegressor(n_estimators=100, random_state=42, n_jobs=-1)\n",
    "xgb_reg.fit(X_train, y_train)\n",
    "\n",
    "y_pred = xgb_reg.predict(X_test)\n",
    "mape = mean_absolute_percentage_error(y_test, y_pred)\n",
    "r2 = r2_score(y_test, y_pred)\n",
    "print(f\"XGBoost MAPE (outliers removed): {mape:.2f}\")\n",
    "print(f\"XGBoost R-squared (outliers removed): {r2:.3f}\")"
   ]
  },
  {
   "cell_type": "markdown",
   "id": "43bde3ba",
   "metadata": {},
   "source": [
    "### LightGBM - numerical only"
   ]
  },
  {
   "cell_type": "code",
   "execution_count": 9,
   "id": "b4d40642",
   "metadata": {},
   "outputs": [
    {
     "name": "stdout",
     "output_type": "stream",
     "text": [
      "[LightGBM] [Info] Auto-choosing row-wise multi-threading, the overhead of testing was 0.000649 seconds.\n",
      "You can set `force_row_wise=true` to remove the overhead.\n",
      "And if memory is not enough, you can set `force_col_wise=true`.\n",
      "[LightGBM] [Info] Total Bins 1989\n",
      "[LightGBM] [Info] Number of data points in the train set: 14991, number of used features: 14\n",
      "[LightGBM] [Info] Start training from score 1032721.465396\n",
      "LightGBM MAPE (outliers removed): 0.12\n",
      "LightGBM R-squared (outliers removed): 0.868\n"
     ]
    }
   ],
   "source": [
    "import lightgbm as lgb\n",
    "\n",
    "# Use the same features and target as previous models\n",
    "X = df_num_model_filtered[num_cols]\n",
    "y = df_num_model_filtered['ClosePrice']\n",
    "\n",
    "X_train, X_test, y_train, y_test = train_test_split(X, y, test_size=0.2, random_state=42)\n",
    "\n",
    "lgb_reg = lgb.LGBMRegressor(n_estimators=100, random_state=42, n_jobs=-1)\n",
    "lgb_reg.fit(X_train, y_train)\n",
    "\n",
    "y_pred = lgb_reg.predict(X_test)\n",
    "mape = mean_absolute_percentage_error(y_test, y_pred)\n",
    "r2 = r2_score(y_test, y_pred)\n",
    "print(f\"LightGBM MAPE (outliers removed): {mape:.2f}\")\n",
    "print(f\"LightGBM R-squared (outliers removed): {r2:.3f}\")"
   ]
  },
  {
   "cell_type": "markdown",
   "id": "5197b6ee",
   "metadata": {},
   "source": [
    "## Feature Selection for XGBoost"
   ]
  },
  {
   "cell_type": "markdown",
   "id": "ccd56019",
   "metadata": {},
   "source": [
    "## Still numerical only"
   ]
  },
  {
   "cell_type": "code",
   "execution_count": 10,
   "id": "ddfbe8f4",
   "metadata": {},
   "outputs": [
    {
     "name": "stdout",
     "output_type": "stream",
     "text": [
      "Performing hyperparameter tuning...\n",
      "Best parameters: {'learning_rate': 0.1, 'max_depth': 9, 'n_estimators': 200, 'subsample': 1.0}\n",
      "Best cross-validation score: 0.11616880024069133\n",
      "Tuned XGBoost MAPE: 0.107\n",
      "Tuned XGBoost R-squared: 0.879\n",
      "\n",
      "Top 10 Most Important Features:\n",
      "                  feature  importance\n",
      "6   BathroomsTotalInteger    0.341517\n",
      "2              LivingArea    0.199954\n",
      "1               Longitude    0.142324\n",
      "0                Latitude    0.113011\n",
      "12         AssociationFee    0.055950\n",
      "13      LotSizeSquareFeet    0.029949\n",
      "11           GarageSpaces    0.020059\n",
      "10      MainLevelBedrooms    0.017591\n",
      "9             LotSizeArea    0.017129\n",
      "5               YearBuilt    0.017028\n"
     ]
    },
    {
     "data": {
      "image/png": "[encoded data removed]",
      "text/plain": [
       "<Figure size 1000x600 with 1 Axes>"
      ]
     },
     "metadata": {},
     "output_type": "display_data"
    }
   ],
   "source": [
    "import xgboost as xgb\n",
    "from sklearn.model_selection import GridSearchCV, cross_val_score\n",
    "from sklearn.preprocessing import StandardScaler\n",
    "import matplotlib.pyplot as plt\n",
    "\n",
    "# Use the same data as before\n",
    "X = df_num_model_filtered[num_cols]\n",
    "y = df_num_model_filtered['ClosePrice']\n",
    "\n",
    "X_train, X_test, y_train, y_test = train_test_split(X, y, test_size=0.2, random_state=42)\n",
    "\n",
    "# 1. Feature scaling (can help with some models)\n",
    "scaler = StandardScaler()\n",
    "X_train_scaled = scaler.fit_transform(X_train)\n",
    "X_test_scaled = scaler.transform(X_test)\n",
    "\n",
    "# 2. Hyperparameter tuning with GridSearchCV\n",
    "param_grid = {\n",
    "    'n_estimators': [100, 200, 300],\n",
    "    'max_depth': [3, 6, 9],\n",
    "    'learning_rate': [0.01, 0.1, 0.2],\n",
    "    'subsample': [0.8, 0.9, 1.0],\n",
    "    'colsample_bytree': [0.8, 0.9, 1.0]\n",
    "}\n",
    "\n",
    "# Start with a smaller grid for faster execution\n",
    "param_grid_small = {\n",
    "    'n_estimators': [100, 200],\n",
    "    'max_depth': [6, 9],\n",
    "    'learning_rate': [0.1, 0.2],\n",
    "    'subsample': [0.8, 1.0]\n",
    "}\n",
    "\n",
    "print(\"Performing hyperparameter tuning...\")\n",
    "xgb_reg = xgb.XGBRegressor(random_state=42, n_jobs=-1)\n",
    "grid_search = GridSearchCV(xgb_reg, param_grid_small, cv=3, scoring='neg_mean_absolute_percentage_error', n_jobs=-1)\n",
    "grid_search.fit(X_train, y_train)\n",
    "\n",
    "print(\"Best parameters:\", grid_search.best_params_)\n",
    "print(\"Best cross-validation score:\", -grid_search.best_score_)\n",
    "\n",
    "# 3. Train final model with best parameters\n",
    "best_xgb = grid_search.best_estimator_\n",
    "y_pred_tuned = best_xgb.predict(X_test)\n",
    "\n",
    "mape_tuned = mean_absolute_percentage_error(y_test, y_pred_tuned)\n",
    "r2_tuned = r2_score(y_test, y_pred_tuned)\n",
    "print(f\"Tuned XGBoost MAPE: {mape_tuned:.3f}\")\n",
    "print(f\"Tuned XGBoost R-squared: {r2_tuned:.3f}\")\n",
    "\n",
    "# 4. Feature importance analysis\n",
    "feature_importance = best_xgb.feature_importances_\n",
    "feature_names = X.columns\n",
    "importance_df = pd.DataFrame({\n",
    "    'feature': feature_names,\n",
    "    'importance': feature_importance\n",
    "}).sort_values('importance', ascending=False)\n",
    "\n",
    "print(\"\\nTop 10 Most Important Features:\")\n",
    "print(importance_df.head(10))\n",
    "\n",
    "# Plot feature importance\n",
    "plt.figure(figsize=(10, 6))\n",
    "plt.barh(importance_df.head(10)['feature'], importance_df.head(10)['importance'])\n",
    "plt.xlabel('Feature Importance')\n",
    "plt.title('Top 10 Feature Importances - XGBoost')\n",
    "plt.gca().invert_yaxis()\n",
    "plt.tight_layout()\n",
    "plt.show()"
   ]
  },
  {
   "cell_type": "markdown",
   "id": "24966e07",
   "metadata": {},
   "source": [
    "## Add categorical"
   ]
  },
  {
   "cell_type": "code",
   "execution_count": 14,
   "id": "b83306bb",
   "metadata": {},
   "outputs": [
    {
     "name": "stdout",
     "output_type": "stream",
     "text": [
      "Categorical Feature Importance (Mutual Information):\n",
      "              feature  importance\n",
      "9          PostalCode    0.758306\n",
      "5                City    0.595162\n",
      "8  HighSchoolDistrict    0.590819\n",
      "3      CountyOrParish    0.359528\n",
      "0            Flooring    0.108951\n",
      "1     UnparsedAddress    0.059049\n",
      "7              Levels    0.057556\n",
      "2        PropertyType    0.000000\n",
      "4     PropertySubType    0.000000\n",
      "6     StateOrProvince    0.000000\n"
     ]
    },
    {
     "data": {
      "image/png": "[encoded data removed]",
      "text/plain": [
       "<Figure size 1000x600 with 1 Axes>"
      ]
     },
     "metadata": {},
     "output_type": "display_data"
    }
   ],
   "source": [
    "# Feature selection for categorical variables\n",
    "def categorical_feature_importance(df, categorical_cols, target_col):\n",
    "    \"\"\"Calculate feature importance for categorical variables using mutual information\"\"\"\n",
    "    cat_importance = {}\n",
    "    \n",
    "    for col in categorical_cols:\n",
    "        # Encode categorical variable\n",
    "        le = LabelEncoder()\n",
    "        encoded_col = le.fit_transform(df[col].astype(str))\n",
    "        \n",
    "        # Calculate mutual information\n",
    "        mi_score = mutual_info_regression(encoded_col.reshape(-1, 1), df[target_col], random_state=42)[0]\n",
    "        cat_importance[col] = mi_score\n",
    "    \n",
    "    return cat_importance\n",
    "\n",
    "# Calculate importance for categorical features\n",
    "cat_importance = categorical_feature_importance(df_processed, categorical_cols, 'ClosePrice')\n",
    "cat_importance_df = pd.DataFrame(list(cat_importance.items()), columns=['feature', 'importance'])\n",
    "cat_importance_df = cat_importance_df.sort_values('importance', ascending=False)\n",
    "\n",
    "print(\"Categorical Feature Importance (Mutual Information):\")\n",
    "print(cat_importance_df)\n",
    "\n",
    "# Plot categorical feature importance\n",
    "if len(categorical_cols) > 0:\n",
    "    plt.figure(figsize=(10, 6))\n",
    "    plt.barh(cat_importance_df['feature'], cat_importance_df['importance'])\n",
    "    plt.xlabel('Mutual Information Score')\n",
    "    plt.title('Categorical Feature Importance')\n",
    "    plt.gca().invert_yaxis()\n",
    "    plt.tight_layout()\n",
    "    plt.show()"
   ]
  },
  {
   "cell_type": "code",
   "execution_count": 38,
   "id": "33e822bc",
   "metadata": {},
   "outputs": [
    {
     "name": "stdout",
     "output_type": "stream",
     "text": [
      "Selected 7 numerical features:\n",
      "['LivingArea', 'BathroomsTotalInteger', 'BedroomsTotal', 'AssociationFee', 'Stories', 'GarageSpaces', 'Latitude']\n",
      "\n",
      "Selected 5 categorical features:\n",
      "['PostalCode', 'City', 'HighSchoolDistrict', 'CountyOrParish', 'Flooring']\n",
      "\n",
      "Final dataset shape after feature selection and encoding: (19113, 1962)\n",
      "Final features: 1961\n"
     ]
    }
   ],
   "source": [
    "# Combine and select best features\n",
    "def select_best_features(num_importance_df, cat_importance_df, top_n_num=15, top_n_cat=5):\n",
    "    \"\"\"Select top features from both numerical and categorical\"\"\"\n",
    "    \n",
    "    # Get top numerical features\n",
    "    top_num_features = num_importance_df.head(top_n_num)['feature'].tolist()\n",
    "    \n",
    "    # Get top categorical features\n",
    "    top_cat_features = cat_importance_df.head(top_n_cat)['feature'].tolist()\n",
    "    \n",
    "    return top_num_features, top_cat_features\n",
    "\n",
    "# Select best features\n",
    "top_num_features, top_cat_features = select_best_features(num_importance_df, cat_importance_df, 7)\n",
    "\n",
    "print(f\"Selected {len(top_num_features)} numerical features:\")\n",
    "print(top_num_features)\n",
    "print(f\"\\nSelected {len(top_cat_features)} categorical features:\")\n",
    "print(top_cat_features)\n",
    "\n",
    "# Prepare data for modeling\n",
    "selected_features = top_num_features + top_cat_features\n",
    "df_selected = df_processed[selected_features + ['ClosePrice']].copy()\n",
    "\n",
    "# One-hot encode categorical variables\n",
    "df_final = pd.get_dummies(df_selected, columns=top_cat_features, drop_first=True)\n",
    "\n",
    "print(f\"\\nFinal dataset shape after feature selection and encoding: {df_final.shape}\")\n",
    "print(f\"Final features: {len(df_final.columns) - 1}\")"
   ]
  },
  {
   "cell_type": "code",
   "execution_count": 39,
   "id": "19427793",
   "metadata": {},
   "outputs": [
    {
     "name": "stdout",
     "output_type": "stream",
     "text": [
      "Default XGBoost MAPE: 0.128\n",
      "Default XGBoost R-squared: 0.866\n"
     ]
    }
   ],
   "source": [
    "# Train XGBoost with selected features\n",
    "from sklearn.model_selection import cross_val_score\n",
    "\n",
    "# Remove outliers (same as before)\n",
    "q1 = df_final['ClosePrice'].quantile(0.01)\n",
    "q99 = df_final['ClosePrice'].quantile(0.99)\n",
    "df_final_filtered = df_final[(df_final['ClosePrice'] >= q1) & (df_final['ClosePrice'] <= q99)]\n",
    "\n",
    "# Prepare features and target\n",
    "X_all = df_final_filtered.drop(columns=['ClosePrice'])\n",
    "y_all = df_final_filtered['ClosePrice']\n",
    "\n",
    "X_train_all, X_test_all, y_train_all, y_test_all = train_test_split(\n",
    "    X_all, y_all, test_size=0.2, random_state=42\n",
    ")\n",
    "\n",
    "# default XGBoost model\n",
    "xgb_default = xgb.XGBRegressor(random_state=42, n_jobs=-1)\n",
    "xgb_default.fit(X_train_all, y_train_all)\n",
    "y_pred_default = xgb_default.predict(X_test_all)\n",
    "mape_default = mean_absolute_percentage_error(y_test_all, y_pred_default)\n",
    "r2_default = r2_score(y_test_all, y_pred_default)\n",
    "print(f\"Default XGBoost MAPE: {mape_default:.3f}\")\n",
    "print(f\"Default XGBoost R-squared: {r2_default:.3f}\")\n"
   ]
  },
  {
   "cell_type": "code",
   "execution_count": 40,
   "id": "f5a1f92b",
   "metadata": {},
   "outputs": [
    {
     "name": "stdout",
     "output_type": "stream",
     "text": [
      "Performing fast hyperparameter tuning...\n",
      "Fitting 5 folds for each of 24 candidates, totalling 120 fits\n"
     ]
    },
    {
     "name": "stdout",
     "output_type": "stream",
     "text": [
      "Best parameters: {'colsample_bytree': 1, 'learning_rate': 0.3, 'max_depth': 8, 'n_estimators': 100, 'subsample': 0.8}\n",
      "Best cross-validation score: 0.12701721700544072\n",
      "\n",
      "XGBoost with All Features:\n",
      "MAPE: 0.123\n",
      "R-squared: 0.863\n",
      "CV MAPE: 0.127 (+/- 0.003)\n",
      "CV MAPE: 0.127 (+/- 0.003)\n"
     ]
    }
   ],
   "source": [
    "# Hyperparameter tuning for XGBoost with all features\n",
    "# param_grid_comprehensive = {\n",
    "#     'n_estimators': [100, 200, 300],\n",
    "#     'max_depth': [6, 8, 10],\n",
    "#     'learning_rate': [0.05, 0.1, 0.15],\n",
    "#     'subsample': [0.8, 0.9],\n",
    "#     'colsample_bytree': [0.8, 0.9]\n",
    "# }\n",
    "param_grid_fast = {\n",
    "    'n_estimators': [100],\n",
    "    'max_depth': [6, 8],\n",
    "    'learning_rate': [0.1, 0.2, 0.3],\n",
    "    'subsample': [0.8, 1],\n",
    "    'colsample_bytree': [0.8, 1]\n",
    "}\n",
    "\n",
    "print(\"Performing fast hyperparameter tuning...\")\n",
    "xgb_fast = xgb.XGBRegressor(random_state=42, n_jobs=-1)\n",
    "grid_search_all = GridSearchCV(\n",
    "    xgb_fast, \n",
    "    param_grid_fast, \n",
    "    cv=5, \n",
    "    scoring='neg_mean_absolute_percentage_error', \n",
    "    n_jobs=-1,\n",
    "    verbose=1\n",
    ")\n",
    "\n",
    "grid_search_all.fit(X_train_all, y_train_all)\n",
    "\n",
    "print(\"Best parameters:\", grid_search_all.best_params_)\n",
    "print(\"Best cross-validation score:\", -grid_search_all.best_score_)\n",
    "\n",
    "# Train final model\n",
    "best_xgb_all = grid_search_all.best_estimator_\n",
    "y_pred_all = best_xgb_all.predict(X_test_all)\n",
    "\n",
    "mape_all = mean_absolute_percentage_error(y_test_all, y_pred_all)\n",
    "r2_all = r2_score(y_test_all, y_pred_all)\n",
    "\n",
    "print(f\"\\nXGBoost with All Features:\")\n",
    "print(f\"MAPE: {mape_all:.3f}\")\n",
    "print(f\"R-squared: {r2_all:.3f}\")\n",
    "\n",
    "# Cross-validation scores\n",
    "cv_scores = cross_val_score(best_xgb_all, X_train_all, y_train_all, \n",
    "                           cv=5, scoring='neg_mean_absolute_percentage_error')\n",
    "print(f\"CV MAPE: {-cv_scores.mean():.3f} (+/- {cv_scores.std() * 2:.3f})\")"
   ]
  },
  {
   "cell_type": "code",
   "execution_count": null,
   "id": "63101848",
   "metadata": {},
   "outputs": [],
   "source": []
  }
 ],
 "metadata": {
  "kernelspec": {
   "display_name": "Python 3",
   "language": "python",
   "name": "python3"
  },
  "language_info": {
   "codemirror_mode": {
    "name": "ipython",
    "version": 3
   },
   "file_extension": ".py",
   "mimetype": "text/x-python",
   "name": "python",
   "nbconvert_exporter": "python",
   "pygments_lexer": "ipython3",
   "version": "3.13.0"
  }
 },
 "nbformat": 4,
 "nbformat_minor": 5
}
