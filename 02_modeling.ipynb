{
 "cells": [
  {
   "cell_type": "code",
   "execution_count": 1,
   "id": "60df6379",
   "metadata": {},
   "outputs": [],
   "source": [
    "import pandas as pd\n",
    "import numpy as np"
   ]
  },
  {
   "cell_type": "markdown",
   "id": "536bd99b",
   "metadata": {},
   "source": [
    "## Load Data"
   ]
  },
  {
   "cell_type": "code",
   "execution_count": 2,
   "id": "38d115ac",
   "metadata": {},
   "outputs": [
    {
     "name": "stdout",
     "output_type": "stream",
     "text": [
      "Loaded cleaned data with shape: (19113, 30)\n"
     ]
    }
   ],
   "source": [
    "mega_fd = pd.read_csv(\"cleaned_data.csv\")\n",
    "print(\"Loaded cleaned data with shape:\", mega_fd.shape)"
   ]
  },
  {
   "cell_type": "markdown",
   "id": "4c2998c3",
   "metadata": {},
   "source": [
    "## Select Features"
   ]
  },
  {
   "cell_type": "code",
   "execution_count": 10,
   "id": "c708bc27",
   "metadata": {},
   "outputs": [
    {
     "name": "stdout",
     "output_type": "stream",
     "text": [
      "Numerical columns identified: ['Latitude', 'Longitude', 'LivingArea', 'DaysOnMarket', 'ParkingTotal', 'YearBuilt', 'BathroomsTotalInteger', 'BedroomsTotal', 'Stories', 'LotSizeArea', 'MainLevelBedrooms', 'GarageSpaces', 'AssociationFee', 'LotSizeSquareFeet']\n"
     ]
    }
   ],
   "source": [
    "# Remove ClosePrice column\n",
    "features = mega_fd.drop(columns=['ClosePrice'])\n",
    "\n",
    "# Define numerical columns first\n",
    "num_cols = X.select_dtypes(include=[np.number]).columns.tolist()\n",
    "print(\"Numerical columns identified:\", num_cols)"
   ]
  },
  {
   "cell_type": "markdown",
   "id": "4e6052b8",
   "metadata": {},
   "source": [
    "## Predicting Close Price"
   ]
  },
  {
   "cell_type": "markdown",
   "id": "07887589",
   "metadata": {},
   "source": [
    "### KNN - Numerical variables only"
   ]
  },
  {
   "cell_type": "code",
   "execution_count": 7,
   "id": "9a20d716",
   "metadata": {},
   "outputs": [
    {
     "name": "stdout",
     "output_type": "stream",
     "text": [
      "KNN MAPE: 0.430\n",
      "KNN R-squared: 0.317\n"
     ]
    }
   ],
   "source": [
    "from sklearn.neighbors import KNeighborsRegressor\n",
    "from sklearn.model_selection import train_test_split\n",
    "from sklearn.metrics import mean_absolute_percentage_error, r2_score\n",
    "\n",
    "df_knn = mega_fd[num_cols + ['ClosePrice']].dropna()\n",
    "\n",
    "X = df_knn[num_cols]\n",
    "y = df_knn['ClosePrice']\n",
    "\n",
    "X_train, X_test, y_train, y_test = train_test_split(X, y, test_size=0.2, random_state=42)\n",
    "\n",
    "knn = KNeighborsRegressor(n_neighbors=5)\n",
    "knn.fit(X_train, y_train)\n",
    "\n",
    "y_pred = knn.predict(X_test)\n",
    "mape = mean_absolute_percentage_error(y_test, y_pred)\n",
    "r2 = r2_score(y_test, y_pred)\n",
    "print(f\"KNN MAPE: {mape:.3f}\")\n",
    "print(f\"KNN R-squared: {r2:.3f}\")"
   ]
  },
  {
   "cell_type": "markdown",
   "id": "2bf534a8",
   "metadata": {},
   "source": [
    "### KNN - With categorical variables"
   ]
  },
  {
   "cell_type": "code",
   "execution_count": null,
   "id": "6ba6ec51",
   "metadata": {},
   "outputs": [
    {
     "name": "stdout",
     "output_type": "stream",
     "text": [
      "KNN MAPE (all columns, no nulls): 0.43\n",
      "KNN R-squared (all columns, no nulls): 0.272\n"
     ]
    }
   ],
   "source": [
    "# with categorical variables\n",
    "df_no_null_cols = mega_fd.dropna(axis=1)\n",
    "\n",
    "feature_cols = [col for col in df_no_null_cols.columns if col != 'ClosePrice']\n",
    "\n",
    "df_no_null_cols = df_no_null_cols.dropna(subset=['ClosePrice'])\n",
    "\n",
    "X = df_no_null_cols[feature_cols]\n",
    "y = df_no_null_cols['ClosePrice']\n",
    "\n",
    "X = pd.get_dummies(X, drop_first=True)\n",
    "\n",
    "X_train, X_test, y_train, y_test = train_test_split(X, y, test_size=0.2, random_state=42)\n",
    "\n",
    "knn = KNeighborsRegressor(n_neighbors=3)\n",
    "knn.fit(X_train, y_train)\n",
    "\n",
    "y_pred = knn.predict(X_test)\n",
    "mape = mean_absolute_percentage_error(y_test, y_pred)\n",
    "r2 = r2_score(y_test, y_pred)\n",
    "print(f\"KNN MAPE (all columns, no nulls): {mape:.2f}\")\n",
    "print(f\"KNN R-squared (all columns, no nulls): {r2:.3f}\")"
   ]
  },
  {
   "cell_type": "markdown",
   "id": "b99c3098",
   "metadata": {},
   "source": [
    "### Random Forest - numerical only"
   ]
  },
  {
   "cell_type": "code",
   "execution_count": 14,
   "id": "5b9e9fd0",
   "metadata": {},
   "outputs": [
    {
     "name": "stdout",
     "output_type": "stream",
     "text": [
      "Random Forest MAPE (outliers removed): 0.11\n",
      "Random Forest R-squared (outliers removed): 0.866\n"
     ]
    }
   ],
   "source": [
    "from sklearn.ensemble import RandomForestRegressor\n",
    "from sklearn.model_selection import train_test_split\n",
    "from sklearn.metrics import mean_absolute_percentage_error, r2_score\n",
    "\n",
    "# Use only numerical columns for fair comparison\n",
    "num_cols_rf = [col for col in num_cols if col != 'ClosePrice']\n",
    "df_rf = mega_fd[num_cols_rf + ['ClosePrice']].dropna()\n",
    "\n",
    "# Remove top and bottom 1% outliers based on ClosePrice\n",
    "q1 = df_rf['ClosePrice'].quantile(0.01)\n",
    "q99 = df_rf['ClosePrice'].quantile(0.99)\n",
    "df_rf_filtered = df_rf[(df_rf['ClosePrice'] >= q1) & (df_rf['ClosePrice'] <= q99)]\n",
    "\n",
    "X = df_rf_filtered[num_cols_rf]\n",
    "y = df_rf_filtered['ClosePrice']\n",
    "\n",
    "X_train, X_test, y_train, y_test = train_test_split(X, y, test_size=0.2, random_state=42)\n",
    "\n",
    "rf = RandomForestRegressor(n_estimators=100, random_state=42)\n",
    "rf.fit(X_train, y_train)\n",
    "\n",
    "y_pred = rf.predict(X_test)\n",
    "mape = mean_absolute_percentage_error(y_test, y_pred)\n",
    "r2 = r2_score(y_test, y_pred)\n",
    "print(f\"Random Forest MAPE (outliers removed): {mape:.2f}\")\n",
    "print(f\"Random Forest R-squared (outliers removed): {r2:.3f}\")\n"
   ]
  },
  {
   "cell_type": "markdown",
   "id": "96c333f2",
   "metadata": {},
   "source": [
    "### XGBoost - numerical only"
   ]
  },
  {
   "cell_type": "code",
   "execution_count": 15,
   "id": "8e5cccff",
   "metadata": {},
   "outputs": [
    {
     "name": "stdout",
     "output_type": "stream",
     "text": [
      "XGBoost MAPE (outliers removed): 0.12\n",
      "XGBoost R-squared (outliers removed): 0.875\n"
     ]
    }
   ],
   "source": [
    "import xgboost as xgb\n",
    "\n",
    "# Use only numerical columns for fair comparison (same as rf)\n",
    "X = df_rf_filtered[num_cols_rf]\n",
    "y = df_rf_filtered['ClosePrice']\n",
    "\n",
    "X_train, X_test, y_train, y_test = train_test_split(X, y, test_size=0.2, random_state=42)\n",
    "\n",
    "xgb_reg = xgb.XGBRegressor(n_estimators=100, random_state=42, n_jobs=-1)\n",
    "xgb_reg.fit(X_train, y_train)\n",
    "\n",
    "y_pred = xgb_reg.predict(X_test)\n",
    "mape = mean_absolute_percentage_error(y_test, y_pred)\n",
    "r2 = r2_score(y_test, y_pred)\n",
    "print(f\"XGBoost MAPE (outliers removed): {mape:.2f}\")\n",
    "print(f\"XGBoost R-squared (outliers removed): {r2:.3f}\")"
   ]
  },
  {
   "cell_type": "markdown",
   "id": "43bde3ba",
   "metadata": {},
   "source": [
    "### LightGBM - numerical only"
   ]
  },
  {
   "cell_type": "code",
   "execution_count": 17,
   "id": "b4d40642",
   "metadata": {},
   "outputs": [
    {
     "name": "stdout",
     "output_type": "stream",
     "text": [
      "[LightGBM] [Info] Auto-choosing row-wise multi-threading, the overhead of testing was 0.000883 seconds.\n",
      "You can set `force_row_wise=true` to remove the overhead.\n",
      "And if memory is not enough, you can set `force_col_wise=true`.\n",
      "[LightGBM] [Info] Total Bins 1989\n",
      "[LightGBM] [Info] Number of data points in the train set: 14991, number of used features: 14\n",
      "[LightGBM] [Info] Start training from score 1032721.465396\n",
      "LightGBM MAPE (outliers removed): 0.12\n",
      "LightGBM R-squared (outliers removed): 0.868\n"
     ]
    }
   ],
   "source": [
    "import lightgbm as lgb\n",
    "\n",
    "# Use the same features and target as previous models\n",
    "X = df_rf_filtered[num_cols_rf]\n",
    "y = df_rf_filtered['ClosePrice']\n",
    "\n",
    "X_train, X_test, y_train, y_test = train_test_split(X, y, test_size=0.2, random_state=42)\n",
    "\n",
    "lgb_reg = lgb.LGBMRegressor(n_estimators=100, random_state=42, n_jobs=-1)\n",
    "lgb_reg.fit(X_train, y_train)\n",
    "\n",
    "y_pred = lgb_reg.predict(X_test)\n",
    "mape = mean_absolute_percentage_error(y_test, y_pred)\n",
    "r2 = r2_score(y_test, y_pred)\n",
    "print(f\"LightGBM MAPE (outliers removed): {mape:.2f}\")\n",
    "print(f\"LightGBM R-squared (outliers removed): {r2:.3f}\")"
   ]
  },
  {
   "cell_type": "code",
   "execution_count": null,
   "id": "63eeaa27",
   "metadata": {},
   "outputs": [],
   "source": []
  }
 ],
 "metadata": {
  "kernelspec": {
   "display_name": "Python 3",
   "language": "python",
   "name": "python3"
  },
  "language_info": {
   "codemirror_mode": {
    "name": "ipython",
    "version": 3
   },
   "file_extension": ".py",
   "mimetype": "text/x-python",
   "name": "python",
   "nbconvert_exporter": "python",
   "pygments_lexer": "ipython3",
   "version": "3.13.0"
  }
 },
 "nbformat": 4,
 "nbformat_minor": 5
}
